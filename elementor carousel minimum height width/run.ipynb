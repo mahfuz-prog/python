{
  "nbformat": 4,
  "nbformat_minor": 0,
  "metadata": {
    "colab": {
      "provenance": []
    },
    "kernelspec": {
      "name": "python3",
      "display_name": "Python 3"
    },
    "language_info": {
      "name": "python"
    }
  },
  "cells": [
    {
      "cell_type": "code",
      "source": [
        "! pip install requests-html"
      ],
      "metadata": {
        "id": "uaKFGC4RfvR9"
      },
      "execution_count": null,
      "outputs": []
    },
    {
      "cell_type": "code",
      "execution_count": 2,
      "metadata": {
        "id": "uZ8c7UIvftnk"
      },
      "outputs": [],
      "source": [
        "from requests_html import HTML, HTMLSession\n",
        "session = HTMLSession()"
      ]
    },
    {
      "cell_type": "code",
      "source": [
        "response = session.get('https://www.gcsolarelectric.com/')"
      ],
      "metadata": {
        "id": "7YD42mXlgDyV"
      },
      "execution_count": 8,
      "outputs": []
    },
    {
      "cell_type": "code",
      "source": [
        "images = response.html.find('.elementor-element-5a3ddda .elementor-image-carousel img')"
      ],
      "metadata": {
        "id": "nTmXdqpMgiJt"
      },
      "execution_count": 9,
      "outputs": []
    },
    {
      "cell_type": "code",
      "source": [
        "from PIL import Image\n",
        "width = []\n",
        "height = []\n",
        "\n",
        "for image in images:\n",
        "  # extract image source\n",
        "  img_link = image.attrs['src']\n",
        "\n",
        "  # split the image name with extention from the source\n",
        "  img_name = img_link.split('/')[-1]\n",
        "\n",
        "  # request to image source\n",
        "  r = session.get(img_link)\n",
        "\n",
        "  # save the image\n",
        "  with open(img_name, \"wb\") as fp:\n",
        "      fp.write(r.content)\n",
        "\n",
        "  # load the image using pil and store it's width, height\n",
        "  im = Image.open(f'{img_name}')\n",
        "  width.append(im.size[0])\n",
        "  height.append(im.size[1])"
      ],
      "metadata": {
        "id": "9I2yUBXkgylt"
      },
      "execution_count": 10,
      "outputs": []
    },
    {
      "cell_type": "code",
      "source": [
        "min(width)"
      ],
      "metadata": {
        "colab": {
          "base_uri": "https://localhost:8080/"
        },
        "id": "dz3bL6ZukkNV",
        "outputId": "4dbcd982-da83-4003-bed0-871c55443e4a"
      },
      "execution_count": 11,
      "outputs": [
        {
          "output_type": "execute_result",
          "data": {
            "text/plain": [
              "443"
            ]
          },
          "metadata": {},
          "execution_count": 11
        }
      ]
    },
    {
      "cell_type": "code",
      "source": [
        "min(height)"
      ],
      "metadata": {
        "colab": {
          "base_uri": "https://localhost:8080/"
        },
        "id": "FleZGlS6tV_7",
        "outputId": "a06cd3e7-6bab-4351-b36f-359fbe770048"
      },
      "execution_count": 12,
      "outputs": [
        {
          "output_type": "execute_result",
          "data": {
            "text/plain": [
              "467"
            ]
          },
          "metadata": {},
          "execution_count": 12
        }
      ]
    }
  ]
}