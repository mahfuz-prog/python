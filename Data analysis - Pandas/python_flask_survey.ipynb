{
  "cells": [
    {
      "cell_type": "markdown",
      "metadata": {
        "id": "zqXmiRmJSapq"
      },
      "source": [
        "# Stack Overflow Annual Developer Survey 2023\n",
        "#### This notebook gives information related with Python & Flask\n",
        "\n",
        "###### https://insights.stackoverflow.com/survey"
      ]
    },
    {
      "cell_type": "markdown",
      "metadata": {
        "id": "7vrmTSRqRfzC"
      },
      "source": [
        "# Import libraries"
      ]
    },
    {
      "cell_type": "code",
      "execution_count": 24,
      "metadata": {
        "id": "i--uOvn23zl3"
      },
      "outputs": [],
      "source": [
        "import pandas as pd"
      ]
    },
    {
      "cell_type": "markdown",
      "metadata": {
        "id": "bQm-pmNLRxci"
      },
      "source": [
        "# Load dataset"
      ]
    },
    {
      "cell_type": "code",
      "execution_count": 25,
      "metadata": {
        "id": "Yh5YH3blkDUg"
      },
      "outputs": [],
      "source": [
        "# needs only few columns for this purpose\n",
        "usecols = ['ResponseId', 'Country', 'LanguageHaveWorkedWith', 'WebframeWantToWorkWith', 'CompTotal']\n",
        "\n",
        "results_df = pd.read_csv(\"/content/survey_results_public.csv\", index_col='ResponseId', usecols=usecols)\n",
        "schema_df = pd.read_csv(\"/content/survey_results_schema.csv\", index_col='qname')"
      ]
    },
    {
      "cell_type": "code",
      "execution_count": 26,
      "metadata": {
        "colab": {
          "base_uri": "https://localhost:8080/",
          "height": 53
        },
        "id": "GzfAweMijeGR",
        "outputId": "1ef9d2d3-6ec8-42d8-b531-6092115ead9e"
      },
      "outputs": [
        {
          "data": {
            "application/vnd.google.colaboratory.intrinsic+json": {
              "type": "string"
            },
            "text/plain": [
              "'What is your current total <b>annual</b> compensation (salary, bonuses, and perks, before taxes and deductions)? Please enter a whole number in the box below, without any punctuation.  If you are paid hourly, please estimate an equivalent yearly salary. If you prefer not to answer, please leave the box empty.'"
            ]
          },
          "execution_count": 26,
          "metadata": {},
          "output_type": "execute_result"
        }
      ],
      "source": [
        "# check the question corresponding to the column name\n",
        "schema_df.loc['CompTotal', 'question']"
      ]
    },
    {
      "cell_type": "markdown",
      "metadata": {
        "id": "8kRxJOZnWwEi"
      },
      "source": [
        "# Filter for Python developer who worked with Flask"
      ]
    },
    {
      "cell_type": "code",
      "execution_count": 27,
      "metadata": {
        "colab": {
          "base_uri": "https://localhost:8080/"
        },
        "id": "Lx02m2GXBIJ_",
        "outputId": "04b9a475-8b34-49bf-c257-5034b730f421"
      },
      "outputs": [
        {
          "name": "stdout",
          "output_type": "stream",
          "text": [
            "Worldwide total Python developer who worked with Flask: 4997\n"
          ]
        }
      ],
      "source": [
        "python_filter = results_df['LanguageHaveWorkedWith'].str.contains('Python', na=False)\n",
        "flask_filter = results_df['WebframeWantToWorkWith'].str.contains('Flask', na=False)\n",
        "\n",
        "df = results_df[python_filter & flask_filter]\n",
        "print('Worldwide total Python developers worked with Flask:', df.shape[0])\n",
        "\n",
        "# grouped by country for further analysis\n",
        "country_grp = df.groupby('Country')"
      ]
    },
    {
      "cell_type": "code",
      "execution_count": 28,
      "metadata": {
        "colab": {
          "base_uri": "https://localhost:8080/"
        },
        "id": "-3js7xudaLJS",
        "outputId": "b085bfb7-483e-420c-c109-39a95ee2e92d"
      },
      "outputs": [
        {
          "data": {
            "text/plain": [
              "array(['United States of America',\n",
              "       'United Kingdom of Great Britain and Northern Ireland', 'Greece',\n",
              "       'Australia', 'Norway', 'Finland', 'Nepal', 'Germany', 'Poland',\n",
              "       'Turkey', 'Netherlands', 'India', 'Egypt', 'Estonia', 'Bulgaria',\n",
              "       'Spain', 'Italy', 'Uzbekistan', 'Brazil', 'Denmark', 'Qatar',\n",
              "       'Belgium', 'Philippines', 'France', 'Russian Federation', 'Taiwan',\n",
              "       'Nigeria', 'Nomadic', 'Morocco', 'Switzerland', 'Canada',\n",
              "       'Croatia', 'Austria', 'Ethiopia', 'Armenia', 'Zambia', 'Nicaragua',\n",
              "       'Mauritius', 'Japan', 'Congo, Republic of the...', 'Kazakhstan',\n",
              "       'Sweden', 'Hungary', 'Ukraine', 'Slovenia', 'Romania', 'Kenya',\n",
              "       'Israel', 'South Africa', 'Pakistan', 'Ireland', 'Slovakia',\n",
              "       'Viet Nam', 'Afghanistan', 'Cuba', 'Ecuador', 'Colombia',\n",
              "       'Iran, Islamic Republic of...', 'Iceland', 'Lebanon',\n",
              "       'United Arab Emirates', 'Mexico', 'Bangladesh', 'Argentina',\n",
              "       'Chile', 'Latvia', 'Paraguay', 'Cyprus', 'Peru',\n",
              "       'Venezuela, Bolivarian Republic of...', 'Georgia',\n",
              "       'Czech Republic', 'Ghana', 'Malawi', 'Malta', 'Guatemala',\n",
              "       'Singapore', 'New Zealand', 'China', 'Fiji', 'South Korea',\n",
              "       'Indonesia', 'Hong Kong (S.A.R.)', 'Thailand', 'Brunei Darussalam',\n",
              "       'Malaysia', 'Sri Lanka', 'Serbia',\n",
              "       'The former Yugoslav Republic of Macedonia', 'Myanmar',\n",
              "       'Luxembourg', 'Zimbabwe', 'Belarus', 'Bosnia and Herzegovina',\n",
              "       'Portugal', 'Rwanda', 'Uruguay', 'Montenegro', 'Cambodia',\n",
              "       'Lithuania', 'Mongolia', 'El Salvador', 'Dominican Republic',\n",
              "       'Albania', 'Tunisia', 'Honduras', 'Jamaica', 'Costa Rica',\n",
              "       'Saudi Arabia', 'Bolivia', 'Andorra', 'Algeria', 'Uganda',\n",
              "       'Republic of Korea', 'Benin', 'Democratic Republic of the Congo',\n",
              "       'Palau', 'Maldives', \"Côte d'Ivoire\", 'Liberia', 'Bahrain', 'Mali',\n",
              "       'Togo', 'Antigua and Barbuda', 'Sudan', 'Azerbaijan', 'Yemen',\n",
              "       'Madagascar', 'Sierra Leone', 'Tajikistan', 'Cameroon',\n",
              "       'Turkmenistan', 'United Republic of Tanzania', 'Senegal', 'Kuwait',\n",
              "       'Iraq', 'Syrian Arab Republic'], dtype=object)"
            ]
          },
          "execution_count": 28,
          "metadata": {},
          "output_type": "execute_result"
        }
      ],
      "source": [
        "# list of countries\n",
        "df['Country'].unique()"
      ]
    },
    {
      "cell_type": "markdown",
      "metadata": {
        "id": "WNBmfv_5SAHC"
      },
      "source": [
        "# Analysis"
      ]
    },
    {
      "cell_type": "code",
      "execution_count": 30,
      "metadata": {
        "colab": {
          "base_uri": "https://localhost:8080/"
        },
        "id": "O1zLV48yiWTu",
        "outputId": "470692ea-3409-4fad-87c5-11a37d14baac"
      },
      "outputs": [
        {
          "data": {
            "text/plain": [
              "count    1.800000e+01\n",
              "mean     8.600133e+05\n",
              "std      9.735462e+05\n",
              "min      1.200000e+04\n",
              "25%      1.785000e+05\n",
              "50%      5.500000e+05\n",
              "75%      8.775000e+05\n",
              "max      3.070240e+06\n",
              "Name: CompTotal, dtype: float64"
            ]
          },
          "execution_count": 30,
          "metadata": {},
          "output_type": "execute_result"
        }
      ],
      "source": [
        "country_grp.get_group('Bangladesh')['CompTotal'].dropna().describe()"
      ]
    }
  ],
  "metadata": {
    "colab": {
      "provenance": []
    },
    "kernelspec": {
      "display_name": "Python 3",
      "name": "python3"
    },
    "language_info": {
      "name": "python"
    }
  },
  "nbformat": 4,
  "nbformat_minor": 0
}
