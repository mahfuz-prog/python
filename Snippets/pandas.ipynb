{
  "cells": [
    {
      "cell_type": "code",
      "execution_count": null,
      "id": "4930a0cd-f94f-4b06-9a03-3cdd83613010",
      "metadata": {
        "id": "4930a0cd-f94f-4b06-9a03-3cdd83613010"
      },
      "outputs": [],
      "source": [
        "import numpy as np\n",
        "import pandas as pd\n",
        "import warnings\n",
        "\n",
        "# warnings.simplefilter(\"ignore\")\n",
        "pd.set_option(\"display.max_colwidth\", 100)\n",
        "pd.set_option(\"display.max_rows\", 100)"
      ]
    },
    {
      "cell_type": "code",
      "execution_count": null,
      "id": "91475673-1334-4225-8091-425a60336b3f",
      "metadata": {
        "id": "91475673-1334-4225-8091-425a60336b3f"
      },
      "outputs": [],
      "source": [
        "results_df = pd.read_csv(\"stack-overflow-developer-survey-2020/survey_results_public.csv\", index_col='Respondent')\n",
        "schema_df = pd.read_csv(\"stack-overflow-developer-survey-2020/survey_results_schema.csv\", index_col='Column')"
      ]
    },
    {
      "cell_type": "code",
      "execution_count": null,
      "id": "93baf7fa-0417-490e-9d64-c7af1a9838f7",
      "metadata": {
        "id": "93baf7fa-0417-490e-9d64-c7af1a9838f7",
        "outputId": "65821b62-00c2-409c-cdc6-5b51c165dcb0"
      },
      "outputs": [
        {
          "data": {
            "text/plain": [
              "''"
            ]
          },
          "execution_count": 3,
          "metadata": {},
          "output_type": "execute_result"
        }
      ],
      "source": [
        "# while loading dataset we can pass a list of na values\n",
        "# df = pd.read_csv(\".csv\", na_values=['NA', 'Missing'])\n",
        "\n",
        "# return dataframe of true false\n",
        "results_df.isna()\n",
        "# fill all the nan values\n",
        "results_df.fillna('hola')\n",
        "\n",
        "# this will delete the entire row if all values are none\n",
        "# how='all' drop row if all values are mising\n",
        "# how='any' drop row if one value is mising\n",
        "results_df.dropna(axis='index', how='all')\n",
        "\n",
        "# drop rows for a nan value of spacific column\n",
        "results_df.dropna(axis='index', subset=['Age'])\n",
        "''"
      ]
    },
    {
      "cell_type": "code",
      "execution_count": null,
      "id": "b89c070f-6b59-4650-b04a-351b08dfd317",
      "metadata": {
        "id": "b89c070f-6b59-4650-b04a-351b08dfd317",
        "outputId": "9b2d9497-0533-42dd-9042-0f49366f3570"
      },
      "outputs": [
        {
          "data": {
            "text/plain": [
              "''"
            ]
          },
          "execution_count": 4,
          "metadata": {},
          "output_type": "execute_result"
        }
      ],
      "source": [
        "# sorting index ascending or descending order\n",
        "schema_df.sort_index(ascending=True, inplace=True)\n",
        "\n",
        "# sorting by columns\n",
        "results_df.sort_values(by=['ConvertedComp', 'Age'], ascending=[True, True])[['ConvertedComp', 'Age']]\n",
        "\n",
        "# get largest values, this only return the values of the series\n",
        "# .nsmallest for smaller values\n",
        "results_df['ConvertedComp'].nlargest(10)\n",
        "\n",
        "# this filter and return new dataframe of largest values\n",
        "results_df.nlargest(10, 'ConvertedComp')\n",
        "\n",
        "''"
      ]
    },
    {
      "cell_type": "code",
      "execution_count": null,
      "id": "8e19de67-c31c-49ff-9423-83dc0f96c712",
      "metadata": {
        "id": "8e19de67-c31c-49ff-9423-83dc0f96c712",
        "outputId": "c341f010-33fa-4c94-8043-af889067f229"
      },
      "outputs": [
        {
          "data": {
            "text/plain": [
              "'What is your age (in years)? If you prefer not to answer, you may leave this question blank.'"
            ]
          },
          "execution_count": 5,
          "metadata": {},
          "output_type": "execute_result"
        }
      ],
      "source": [
        "# indexer -- access row\n",
        "# inclusive slicing\n",
        "# .loc[rows, columns]\n",
        "schema_df.loc['Age', 'QuestionText']"
      ]
    },
    {
      "cell_type": "code",
      "execution_count": null,
      "id": "efe0575a-e7ed-4220-accf-6de38305f619",
      "metadata": {
        "id": "efe0575a-e7ed-4220-accf-6de38305f619"
      },
      "outputs": [],
      "source": [
        "# rename columns\n",
        "\n",
        "# assign a new list of column name\n",
        "# schema_df.columns = ['a', 'b', 'c']\n",
        "\n",
        "# list comprehension for apply the logic on each column name\n",
        "# schema_df.columns = [x.lower() for x in schema_df.columns]\n",
        "\n",
        "# another way\n",
        "# schema_df.rename(columns={'questiontext' : 'Questiontext'}, inplace=True)\n",
        "\n",
        "# delete columns\n",
        "# results_df.drop(columns=['Hobbyist', 'Country'])"
      ]
    },
    {
      "cell_type": "raw",
      "id": "e8f53bde-bb96-4e38-bd03-295d3df25f9a",
      "metadata": {
        "id": "e8f53bde-bb96-4e38-bd03-295d3df25f9a"
      },
      "source": [
        "# add dataframe on a dataframe\n",
        "# df.append(df2, ignore_index=True)\n",
        "\n",
        "# delete rows from dataframe\n",
        "# schema_df.drop(index='YearsCodePro')"
      ]
    },
    {
      "cell_type": "code",
      "execution_count": null,
      "id": "9cb1a80c-7997-47c7-820f-8b417a1b13e6",
      "metadata": {
        "id": "9cb1a80c-7997-47c7-820f-8b417a1b13e6"
      },
      "outputs": [],
      "source": [
        "# changing value using indexer\n",
        "# df.loc[2, 'Whatever'] = 'Hola'\n",
        "\n",
        "# do the same\n",
        "# df.at[2, 'Whatever'] = 'Hola'\n",
        "\n",
        "# append row\n",
        "df.loc[len(df.index)] = ['col1', ['col2']]"
      ]
    },
    {
      "cell_type": "code",
      "execution_count": null,
      "id": "96a81224-7193-4f9a-947b-fdb055b5f195",
      "metadata": {
        "id": "96a81224-7193-4f9a-947b-fdb055b5f195"
      },
      "outputs": [],
      "source": [
        "# formated like this Objective-C;Python;Swift\n",
        "# value combination of language ; seperated. we can't only search Python\n",
        "# give the utility of indexer\n",
        "# results_df.loc[(results_df['LanguageWorkedWith'] == 'Python')]\n",
        "\n",
        "# this filter do the actual thing\n",
        "python_flt = results_df['LanguageWorkedWith'].str.contains('Python', na=False)\n",
        "# assign the new dataframe\n",
        "results_df = results_df.loc[python_flt]"
      ]
    },
    {
      "cell_type": "code",
      "execution_count": null,
      "id": "9b9c0460-7430-4bb8-9f58-69f9ade97391",
      "metadata": {
        "id": "9b9c0460-7430-4bb8-9f58-69f9ade97391"
      },
      "outputs": [],
      "source": [
        "# list of countries want to filter\n",
        "countries = ['United States', 'India', 'Germany', 'Canada', 'United Kingdom', 'Bangladesh']\n",
        "\n",
        "# apply the list of countries in filter\n",
        "country_flt = results_df['Country'].isin(countries)\n",
        "\n",
        "# apply the filtered mask in dataframe\n",
        "results_df.loc[country_flt, ['Country', 'ConvertedComp', 'Age']]\n",
        "\n",
        "# create a new dataframe of filtered results\n",
        "country_df = results_df.loc[country_flt]"
      ]
    },
    {
      "cell_type": "code",
      "execution_count": null,
      "id": "ee1d4452-e8fb-40d5-9609-83b6ae7bab1d",
      "metadata": {
        "id": "ee1d4452-e8fb-40d5-9609-83b6ae7bab1d",
        "outputId": "c3c11b85-6a4e-4efc-d80b-6e3178f51610"
      },
      "outputs": [
        {
          "data": {
            "text/plain": [
              "''"
            ]
          },
          "execution_count": 11,
          "metadata": {},
          "output_type": "execute_result"
        }
      ],
      "source": [
        "# percentage of python developer for different country\n",
        "country_grp = country_df.groupby('Country')\n",
        "# country_df['LanguageWorkedWith'].value_counts(normalize=True, dropna=True)\n",
        "total_py_dev = country_grp['Country'].value_counts().sum()\n",
        "country_grp['Country'].value_counts().apply(lambda x : (x/total_py_dev)*100)\n",
        "''"
      ]
    },
    {
      "cell_type": "code",
      "execution_count": null,
      "id": "b6dc6253-c1ea-4ed5-a5dd-bd21e4add203",
      "metadata": {
        "id": "b6dc6253-c1ea-4ed5-a5dd-bd21e4add203",
        "outputId": "f03c54cb-1947-450f-fc6b-feb6d2b34668"
      },
      "outputs": [
        {
          "data": {
            "text/plain": [
              "''"
            ]
          },
          "execution_count": 12,
          "metadata": {},
          "output_type": "execute_result"
        }
      ],
      "source": [
        "# group\n",
        "# split all the different values into group\n",
        "# return groupby object of Employment\n",
        "emp_grp = country_df.groupby('Employment')\n",
        "\n",
        "# return dataframe of group element\n",
        "emp_grp.get_group('Employed full-time')\n",
        "\n",
        "# select a column of groupby object\n",
        "emp_grp['Country'].value_counts().head(6)\n",
        "\n",
        "# see the results for every country only for Student\n",
        "emp_grp['Country'].value_counts().loc['Student']\n",
        "''"
      ]
    },
    {
      "cell_type": "code",
      "execution_count": null,
      "id": "d604c521-5c83-4faf-99d1-40fab9f8b579",
      "metadata": {
        "id": "d604c521-5c83-4faf-99d1-40fab9f8b579",
        "outputId": "c2a00460-de0c-4e1c-f7b2-1368548b50a1"
      },
      "outputs": [
        {
          "data": {
            "text/plain": [
              "''"
            ]
          },
          "execution_count": 18,
          "metadata": {},
          "output_type": "execute_result"
        }
      ],
      "source": [
        "# apply()\n",
        "# if it runs on a series apply to all value\n",
        "def update_country(country):\n",
        "    return country.lower()\n",
        "\n",
        "results_df['Country'].apply(update_country)\n",
        "\n",
        "# using lambda function\n",
        "results_df['Country'].apply(lambda x: x.lower())\n",
        "\n",
        "# if it runs on a dataframe apply to each row or column\n",
        "# it apply to all columns\n",
        "results_df.apply(len, axis='rows')\n",
        "\n",
        "# it apply to each rows\n",
        "results_df.apply(len, axis='columns')\n",
        "\n",
        "\n",
        "# map()\n",
        "# schema_df.map(len)\n",
        "\n",
        "# if we don't change a value it will replace it as nan\n",
        "results_df['Hobbyist'].map({'Yes':True, 'No':False}, na_action=None)\n",
        "\n",
        "\n",
        "# replace()\n",
        "# if we don't change a value it will remain as it is\n",
        "schema_df.replace({\n",
        "    'What is your age (in years)? If you prefer not to answer, you may leave this question blank.' : '111',\n",
        "    'At what age did you write your first line of code or program? (e.g., webpage, Hello World, Scratch project)' : '222'\n",
        "})\n",
        "''"
      ]
    },
    {
      "cell_type": "code",
      "execution_count": null,
      "id": "9c0899d1-629a-47e9-a145-decabc3e160f",
      "metadata": {
        "id": "9c0899d1-629a-47e9-a145-decabc3e160f",
        "outputId": "8291e8b8-a33a-44bd-9611-5ecb8c0a777c"
      },
      "outputs": [
        {
          "data": {
            "text/plain": [
              "''"
            ]
          },
          "execution_count": 14,
          "metadata": {},
          "output_type": "execute_result"
        }
      ],
      "source": [
        "# adding columns\n",
        "# each split results assign on a new columns\n",
        "results_df['WebframeDesireNextYear'].str.split(';', expand=True)\n",
        "\n",
        "# add new column for each split result\n",
        "# df[['col1', 'col2']] should have same number of splitted column\n",
        "# df[['col1', 'col2']] = results_df['WebframeDesireNextYear'].str.split(';', expand=True)\n",
        "\n",
        "# append row\n",
        "#df.loc[len(df.index)] = ['col1', 'col2']\n",
        "\n",
        "# add dataframe\n",
        "#df = df._append(df_temp, ignore_index=True)\n",
        "''"
      ]
    },
    {
      "cell_type": "code",
      "execution_count": null,
      "id": "e1acf468-5d27-4623-a7f2-244e73730904",
      "metadata": {
        "id": "e1acf468-5d27-4623-a7f2-244e73730904",
        "outputId": "ddd7b6b2-7cef-407a-97c6-b63bdaac6a85"
      },
      "outputs": [
        {
          "data": {
            "text/plain": [
              "''"
            ]
          },
          "execution_count": 15,
          "metadata": {},
          "output_type": "execute_result"
        }
      ],
      "source": [
        "# unique values\n",
        "results_df['YearsCode'].value_counts().sort_values(ascending=True)\n",
        "\n",
        "# normalize=True gives the %\n",
        "results_df['YearsCode'].value_counts(normalize=True)\n",
        "\n",
        "# numpy.unique() returns all unique values of a column\n",
        "results_df['YearsCode'].unique()\n",
        "''"
      ]
    },
    {
      "cell_type": "code",
      "execution_count": null,
      "id": "6e0b69a9-86e2-4654-a713-febace0f96ed",
      "metadata": {
        "id": "6e0b69a9-86e2-4654-a713-febace0f96ed",
        "outputId": "673e9384-2629-4423-e226-8d00e6b00e5c"
      },
      "outputs": [
        {
          "data": {
            "text/plain": [
              "False"
            ]
          },
          "execution_count": 27,
          "metadata": {},
          "output_type": "execute_result"
        }
      ],
      "source": [
        "# check for dataframe equality\n",
        "results_df.equals(schema_df)\n",
        "\n",
        "# memory usages\n",
        "# results_df.info(memory_usage='deep')"
      ]
    },
    {
      "cell_type": "code",
      "execution_count": null,
      "id": "139b3d7c-3232-4376-8546-c73cdc465517",
      "metadata": {
        "id": "139b3d7c-3232-4376-8546-c73cdc465517"
      },
      "outputs": [],
      "source": [
        "# save dataframe to csv\n",
        "# results_df.to_csv('new.csv', sep=',')\n",
        "# create new file and compressed in zip\n",
        "# results_df.to_csv('new.csv.zip')\n",
        "\n",
        "# excel\n",
        "# libraries needed\n",
        "# xlwt, older xls excel format\n",
        "# openpyxl, newer xlsx excel format\n",
        "# xlrd, read excel file\n",
        "\n",
        "# results_df.to_excel('new.xlsx')"
      ]
    }
  ],
  "metadata": {
    "kernelspec": {
      "display_name": "Python 3 (ipykernel)",
      "language": "python",
      "name": "python3"
    },
    "language_info": {
      "codemirror_mode": {
        "name": "ipython",
        "version": 3
      },
      "file_extension": ".py",
      "mimetype": "text/x-python",
      "name": "python",
      "nbconvert_exporter": "python",
      "pygments_lexer": "ipython3",
      "version": "3.11.3"
    },
    "colab": {
      "provenance": []
    }
  },
  "nbformat": 4,
  "nbformat_minor": 5
}