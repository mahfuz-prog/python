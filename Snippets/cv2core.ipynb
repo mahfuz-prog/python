{
 "cells": [
  {
   "cell_type": "markdown",
   "metadata": {},
   "source": [
    "# Packages"
   ]
  },
  {
   "cell_type": "code",
   "execution_count": null,
   "metadata": {},
   "outputs": [],
   "source": [
    "import cv2\n",
    "import numpy as np"
   ]
  },
  {
   "cell_type": "markdown",
   "metadata": {},
   "source": [
    "# Window settings for webcam"
   ]
  },
  {
   "cell_type": "code",
   "execution_count": null,
   "metadata": {},
   "outputs": [
    {
     "data": {
      "text/plain": [
       "False"
      ]
     },
     "execution_count": 2,
     "metadata": {},
     "output_type": "execute_result"
    }
   ],
   "source": [
    "import cv2\n",
    "\n",
    "frameWidth = 640\n",
    "frameHeight = 480\n",
    "cap = cv2.VideoCapture(0)\n",
    "cap.set(3, frameWidth)\n",
    "cap.set(4, frameHeight)\n",
    "cap.set(10, 150)\n",
    "while True:\n",
    "    success, img = cap.read()\n",
    "    cv2.imshow(\"Result\", img)\n",
    "    if cv2.waitKey(1) & 0xFF == ord('q'):\n",
    "        break"
   ]
  },
  {
   "cell_type": "markdown",
   "metadata": {},
   "source": [
    "# Basic functions"
   ]
  },
  {
   "cell_type": "code",
   "execution_count": null,
   "metadata": {},
   "outputs": [
    {
     "data": {
      "text/plain": [
       "-1"
      ]
     },
     "execution_count": 3,
     "metadata": {},
     "output_type": "execute_result"
    }
   ],
   "source": [
    "img = cv2.imread('cat.jpg')\n",
    "\n",
    "#crop image\n",
    "imgCropped = img[0:500,500:1000]\n",
    "\n",
    "#img resize\n",
    "height = int(img.shape[0]/3.5)\n",
    "width = int(img.shape[1]/3.5)\n",
    "imgResize = cv2.resize(img, (width, height)) #width first\n",
    "\n",
    "imgGray = cv2.cvtColor(imgResize, cv2.COLOR_BGR2GRAY)\n",
    "imgBlur = cv2.GaussianBlur(imgResize, (1,1), 0) # kernel = positive and odd. Or, zero's and they are computed from sigma.\n",
    "imgCanny = cv2.Canny(imgResize, 200, 200) #edges\n",
    "\n",
    "kernel = np.ones((2,2), np.uint8)\n",
    "imgDialation = cv2.dilate(imgCanny, kernel, iterations=1) #thickness\n",
    "imgEroded = cv2.erode(imgDialation, kernel, iterations=1) #oposite of dialation\n",
    "                     \n",
    "#cv2.imshow('imgGray', imgGray)\n",
    "cv2.waitKey(0)"
   ]
  },
  {
   "cell_type": "markdown",
   "metadata": {},
   "source": [
    "# Drawing shape"
   ]
  },
  {
   "cell_type": "code",
   "execution_count": null,
   "metadata": {},
   "outputs": [
    {
     "data": {
      "text/plain": [
       "-1"
      ]
     },
     "execution_count": 4,
     "metadata": {},
     "output_type": "execute_result"
    }
   ],
   "source": [
    "\n",
    "img = np.zeros((512,512,3),np.uint8)\n",
    "#print(img)\n",
    "#img[:]= 255,0,0\n",
    " \n",
    "cv2.line(img,(0,0),(img.shape[1],img.shape[0]),(0,255,0),3)\n",
    "cv2.rectangle(img,(0,0),(250,350),(0,0,255),2)\n",
    "cv2.circle(img,(400,50),30,(255,255,0),5)\n",
    "cv2.putText(img,\" OPENCV  \",(300,200),cv2.FONT_HERSHEY_COMPLEX,1,(0,150,0),3)\n",
    " \n",
    "#cv2.imshow(\"Image\",img)\n",
    "cv2.waitKey(0)"
   ]
  },
  {
   "cell_type": "markdown",
   "metadata": {},
   "source": [
    "# Bird eye view ------Perspective"
   ]
  },
  {
   "cell_type": "code",
   "execution_count": null,
   "metadata": {},
   "outputs": [],
   "source": [
    "img = cv2.imread('card.jpg')\n",
    "\n",
    "def perspective(approx, img):\n",
    "    #approx = perspectiveReorder(approx)\n",
    "    width, height = 250, 350\n",
    "    #pts1 = np.float32(approx)\n",
    "    pts1 = np.float32([[194,143],[390,164],[113,363],[343,394]])\n",
    "    pts2 = np.float32([[0,0],[width, 0], [0, height],[width,height]])\n",
    "\n",
    "    mat = cv2.getPerspectiveTransform(pts1, pts2)\n",
    "    imgCroped = cv2.warpPerspective(img, mat, (width, height))\n",
    "\n",
    "    return imgCroped\n",
    "\n",
    "def perspectiveReorder(myPoints):\n",
    "    myPoints = myPoints.reshape((4,2))\n",
    "    myPointsNew = np.zeros((4,1,2),np.int32)\n",
    "    add = myPoints.sum(1)\n",
    "    myPointsNew[0] = myPoints[np.argmin(add)]\n",
    "    myPointsNew[3] = myPoints[np.argmax(add)]\n",
    "    diff = np.diff(myPoints,axis=1)\n",
    "    myPointsNew[1]= myPoints[np.argmin(diff)]\n",
    "    myPointsNew[2] = myPoints[np.argmax(diff)]\n",
    "    #print(myPointsNew)\n",
    "    return myPointsNew\n",
    "\n",
    "x = perspective(np.nan, img)\n",
    "cv2.imshow('a', x)"
   ]
  },
  {
   "cell_type": "markdown",
   "metadata": {},
   "source": [
    "# Image Stack"
   ]
  },
  {
   "cell_type": "code",
   "execution_count": null,
   "metadata": {},
   "outputs": [
    {
     "data": {
      "text/plain": [
       "-1"
      ]
     },
     "execution_count": 6,
     "metadata": {},
     "output_type": "execute_result"
    }
   ],
   "source": [
    "img = cv2.imread('cat.jpg')\n",
    "\n",
    "def stackImages(scale,imgArray):\n",
    "    rows = len(imgArray)\n",
    "    cols = len(imgArray[0])\n",
    "    rowsAvailable = isinstance(imgArray[0], list)\n",
    "    width = imgArray[0][0].shape[1]\n",
    "    height = imgArray[0][0].shape[0]\n",
    "    if rowsAvailable:\n",
    "        for x in range ( 0, rows):\n",
    "            for y in range(0, cols):\n",
    "                if imgArray[x][y].shape[:2] == imgArray[0][0].shape [:2]:\n",
    "                    imgArray[x][y] = cv2.resize(imgArray[x][y], (0, 0), None, scale, scale)\n",
    "                else:\n",
    "                    imgArray[x][y] = cv2.resize(imgArray[x][y], (imgArray[0][0].shape[1], imgArray[0][0].shape[0]), None, scale, scale)\n",
    "                if len(imgArray[x][y].shape) == 2: imgArray[x][y]= cv2.cvtColor( imgArray[x][y], cv2.COLOR_GRAY2BGR)\n",
    "        imageBlank = np.zeros((height, width, 3), np.uint8)\n",
    "        hor = [imageBlank]*rows\n",
    "        hor_con = [imageBlank]*rows\n",
    "        for x in range(0, rows):\n",
    "            hor[x] = np.hstack(imgArray[x])\n",
    "        ver = np.vstack(hor)\n",
    "    else:\n",
    "        for x in range(0, rows):\n",
    "            if imgArray[x].shape[:2] == imgArray[0].shape[:2]:\n",
    "                imgArray[x] = cv2.resize(imgArray[x], (0, 0), None, scale, scale)\n",
    "            else:\n",
    "                imgArray[x] = cv2.resize(imgArray[x], (imgArray[0].shape[1], imgArray[0].shape[0]), None,scale, scale)\n",
    "            if len(imgArray[x].shape) == 2: imgArray[x] = cv2.cvtColor(imgArray[x], cv2.COLOR_GRAY2BGR)\n",
    "        hor= np.hstack(imgArray)\n",
    "        ver = hor\n",
    "    return ver\n",
    " \n",
    "img = cv2.imread('cat1.jpg')\n",
    "imgGray = cv2.cvtColor(img,cv2.COLOR_BGR2GRAY)\n",
    "\n",
    "imgStack = stackImages(0.5,([img,imgGray,img],[img,img,img]))\n",
    "\n",
    "#cv2.imshow('stacked image', imgStack)\n",
    "cv2.waitKey(0)"
   ]
  },
  {
   "cell_type": "markdown",
   "metadata": {},
   "source": [
    "# CONTOURS"
   ]
  },
  {
   "cell_type": "code",
   "execution_count": null,
   "metadata": {},
   "outputs": [
    {
     "data": {
      "text/plain": [
       "-1"
      ]
     },
     "execution_count": 7,
     "metadata": {},
     "output_type": "execute_result"
    }
   ],
   "source": [
    "def getContours(img):\n",
    "    contours,hierarchy = cv2.findContours(img,cv2.RETR_EXTERNAL,cv2.CHAIN_APPROX_NONE)\n",
    "    for _ in contours:\n",
    "        area = cv2.contourArea(_)\n",
    "        #print(area)\n",
    "        if area>10:\n",
    "            cv2.drawContours(imgContour, _, -1, (255, 0, 0), 3)\n",
    "            peri = cv2.arcLength(_,True)    # curve length\n",
    "            #print(peri)\n",
    "            approx = cv2.approxPolyDP(_,0.02*peri,True) # corner point\n",
    "            #print(approx)\n",
    "            cornerPoints = len(approx)\n",
    "\n",
    "            x, y, w, h = cv2.boundingRect(approx)\n",
    "            #print(x, y, w, h)\n",
    "            cv2.rectangle(imgContour, (x,y), (x+w, y+h), (0,255,0), 3)\n",
    "            #cv2.imshow('sleep', imgContour)\n",
    "            #cv2.waitKey(1)\n",
    "            #time.sleep(2)\n",
    "\n",
    "            if cornerPoints == 3: objectType = 'trangle'\n",
    "            else: objectType = None\n",
    "            cv2.putText(imgContour,objectType,\n",
    "                        (x+(w//2)-10,y+(h//2)-10),cv2.FONT_HERSHEY_COMPLEX,0.7,\n",
    "                        (0,0,0),2)\n",
    "\n",
    " \n",
    "img = cv2.imread('shape.png')\n",
    "imgContour = img.copy()\n",
    "imgBlank = np.zeros_like(img)\n",
    " \n",
    "imgGray = cv2.cvtColor(img,cv2.COLOR_BGR2GRAY)\n",
    "imgBlur = cv2.GaussianBlur(imgGray,(7,7),1)\n",
    "imgCanny = cv2.Canny(imgBlur,50,50)\n",
    "getContours(imgCanny)\n",
    " \n",
    "imgStack = stackImages(0.5,([img,imgGray,imgBlur],\n",
    "                            [imgCanny,imgContour,imgBlank]))\n",
    " \n",
    "# cv2.imshow(\"Stack\", imgStack)\n",
    "cv2.waitKey(0)"
   ]
  },
  {
   "cell_type": "markdown",
   "metadata": {},
   "source": [
    "# TrackBar"
   ]
  },
  {
   "cell_type": "code",
   "execution_count": null,
   "metadata": {},
   "outputs": [],
   "source": [
    "def TrackBar():\n",
    "    cv2.namedWindow(\"TrackBars\")\n",
    "    cv2.resizeWindow(\"TrackBars\",640,320)\n",
    "    cv2.createTrackbar(\"Hue Min\",\"TrackBars\",0,179,lambda a: a)\n",
    "    cv2.createTrackbar(\"Hue Max\",\"TrackBars\",0,179,lambda a: a)\n",
    "    cv2.createTrackbar(\"Sat Min\",\"TrackBars\",195,255,lambda a: a)\n",
    "    cv2.createTrackbar(\"Sat Max\",\"TrackBars\",255,255,lambda a: a)\n",
    "    cv2.createTrackbar(\"Val Min\",\"TrackBars\",0,255,lambda a: a)\n",
    "    cv2.createTrackbar(\"Val Max\",\"TrackBars\",255,255,lambda a: a)\n",
    "\n",
    "    while True:\n",
    "        h_min = cv2.getTrackbarPos(\"Hue Min\",\"TrackBars\")\n",
    "        h_max = cv2.getTrackbarPos(\"Hue Max\", \"TrackBars\")\n",
    "        s_min = cv2.getTrackbarPos(\"Sat Min\", \"TrackBars\")\n",
    "        s_max = cv2.getTrackbarPos(\"Sat Max\", \"TrackBars\")\n",
    "        v_min = cv2.getTrackbarPos(\"Val Min\", \"TrackBars\")\n",
    "        v_max = cv2.getTrackbarPos(\"Val Max\", \"TrackBars\")\n",
    "        print(h_min,h_max,s_min,s_max,v_min,v_max)\n",
    "    \n",
    "        if cv2.waitKey(1) & 0xFF == ord('q'):\n",
    "            break\n",
    "\n",
    "#TrackBar()"
   ]
  },
  {
   "cell_type": "markdown",
   "metadata": {},
   "source": [
    "# ColorDetector HSV"
   ]
  },
  {
   "cell_type": "code",
   "execution_count": null,
   "metadata": {},
   "outputs": [],
   "source": [
    "def ColorDetector():\n",
    "    cv2.namedWindow(\"TrackBars\")\n",
    "    cv2.resizeWindow(\"TrackBars\",640,320)\n",
    "    cv2.createTrackbar(\"Hue Min\",\"TrackBars\",0,179,lambda a: a)\n",
    "    cv2.createTrackbar(\"Hue Max\",\"TrackBars\",0,179,lambda a: a)\n",
    "    cv2.createTrackbar(\"Sat Min\",\"TrackBars\",195,255,lambda a: a)\n",
    "    cv2.createTrackbar(\"Sat Max\",\"TrackBars\",255,255,lambda a: a)\n",
    "    cv2.createTrackbar(\"Val Min\",\"TrackBars\",0,255,lambda a: a)\n",
    "    cv2.createTrackbar(\"Val Max\",\"TrackBars\",255,255,lambda a: a)\n",
    "\n",
    "    while True:\n",
    "        img = cv2.imread('color.png')\n",
    "        imgHSV = cv2.cvtColor(img,cv2.COLOR_BGR2HSV)\n",
    "        h_min = cv2.getTrackbarPos(\"Hue Min\",\"TrackBars\")\n",
    "        h_max = cv2.getTrackbarPos(\"Hue Max\", \"TrackBars\")\n",
    "        s_min = cv2.getTrackbarPos(\"Sat Min\", \"TrackBars\")\n",
    "        s_max = cv2.getTrackbarPos(\"Sat Max\", \"TrackBars\")\n",
    "        v_min = cv2.getTrackbarPos(\"Val Min\", \"TrackBars\")\n",
    "        v_max = cv2.getTrackbarPos(\"Val Max\", \"TrackBars\")\n",
    "        print(h_min,h_max,s_min,s_max,v_min,v_max)\n",
    "        lower = np.array([h_min,s_min,v_min])\n",
    "        upper = np.array([h_max,s_max,v_max])\n",
    "        mask = cv2.inRange(imgHSV,lower,upper)\n",
    "        imgResult = cv2.bitwise_and(img,img,mask=mask)\n",
    "    \n",
    "        imgStack = stackImages(.3,([img,imgHSV],[mask,imgResult]))\n",
    "        cv2.imshow(\"Stacked Images\", imgStack)\n",
    "    \n",
    "        if cv2.waitKey(1) & 0xFF == ord('q'):\n",
    "            break\n",
    "\n",
    "#ColorDetector()"
   ]
  },
  {
   "cell_type": "markdown",
   "metadata": {},
   "source": [
    "# ColorDetector RBG"
   ]
  },
  {
   "cell_type": "code",
   "execution_count": null,
   "metadata": {},
   "outputs": [],
   "source": [
    "def ColorDetector():\n",
    "    cv2.namedWindow(\"TrackBars\")\n",
    "    cv2.resizeWindow(\"TrackBars\",640,320)\n",
    "    cv2.createTrackbar(\"Red Min\",\"TrackBars\",0,255,lambda a: a)\n",
    "    cv2.createTrackbar(\"Red Max\",\"TrackBars\",255,255,lambda a: a)\n",
    "    cv2.createTrackbar(\"Green Min\",\"TrackBars\",0,255,lambda a: a)\n",
    "    cv2.createTrackbar(\"Green Max\",\"TrackBars\",255,255,lambda a: a)\n",
    "    cv2.createTrackbar(\"Blue Min\",\"TrackBars\",0,255,lambda a: a)\n",
    "    cv2.createTrackbar(\"Blue Max\",\"TrackBars\",255,255,lambda a: a)\n",
    "\n",
    "    while True:\n",
    "        img = cv2.imread('color.png')\n",
    "        imgRgb = cv2.cvtColor(img,cv2.COLOR_BGR2RGB)\n",
    "        h_min = cv2.getTrackbarPos(\"Red Min\",\"TrackBars\")\n",
    "        h_max = cv2.getTrackbarPos(\"Red Max\", \"TrackBars\")\n",
    "        s_min = cv2.getTrackbarPos(\"Green Min\", \"TrackBars\")\n",
    "        s_max = cv2.getTrackbarPos(\"Green Max\", \"TrackBars\")\n",
    "        v_min = cv2.getTrackbarPos(\"Blue Min\", \"TrackBars\")\n",
    "        v_max = cv2.getTrackbarPos(\"Blue Max\", \"TrackBars\")\n",
    "        print(h_min,h_max,s_min,s_max,v_min,v_max)\n",
    "        lower = np.array([h_min,s_min,v_min])\n",
    "        upper = np.array([h_max,s_max,v_max])\n",
    "        mask = cv2.inRange(imgRgb,lower,upper)\n",
    "        imgResult = cv2.bitwise_and(img,img,mask=mask)\n",
    "\n",
    "        imgStack = stackImages(.3,([img,imgRgb],[mask,imgResult]))\n",
    "        cv2.imshow(\"Stacked Images\", imgStack)\n",
    "\n",
    "        if cv2.waitKey(1) & 0xFF == ord('q'):\n",
    "            break\n",
    "\n",
    "#ColorDetector()"
   ]
  },
  {
   "cell_type": "markdown",
   "metadata": {},
   "source": [
    "# Template Matching"
   ]
  },
  {
   "cell_type": "code",
   "execution_count": null,
   "metadata": {},
   "outputs": [],
   "source": [
    "def tempMatch():\n",
    "    img_rgb = cv2.imread('') # Main image\n",
    "    img_gray = cv2.cvtColor(img_rgb, cv2.COLOR_BGR2GRAY)\n",
    "\n",
    "    template = cv2.imread('',0)\n",
    "    w, h = template.shape[::-1]\n",
    "\n",
    "    res = cv2.matchTemplate(img_gray,template,cv2.TM_CCOEFF_NORMED)\n",
    "    threshold = 0.8\n",
    "    loc = np.where( res >= threshold)\n",
    "\n",
    "    for pt in zip(*loc[::-1]):\n",
    "        cv2.rectangle(img_rgb, pt, (pt[0] + w, pt[1] + h), (0,255,255), 2)\n",
    "\n",
    "    cv2.imshow('Detected',img_rgb)"
   ]
  }
 ],
 "metadata": {
  "kernelspec": {
   "display_name": "Python 3.10.7 64-bit",
   "language": "python",
   "name": "python3"
  },
  "language_info": {
   "codemirror_mode": {
    "name": "ipython",
    "version": 3
   },
   "file_extension": ".py",
   "mimetype": "text/x-python",
   "name": "python",
   "nbconvert_exporter": "python",
   "pygments_lexer": "ipython3",
   "version": "3.10.7"
  },
  "orig_nbformat": 4,
  "vscode": {
   "interpreter": {
    "hash": "fbe58ca63fe33f9eeae9e71d10368d2b4a57f2b1b395836210cc60d362c66949"
   }
  }
 },
 "nbformat": 4,
 "nbformat_minor": 2
}
